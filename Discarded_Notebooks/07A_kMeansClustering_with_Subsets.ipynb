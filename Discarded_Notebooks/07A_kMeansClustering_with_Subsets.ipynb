{
 "cells": [
  {
   "cell_type": "code",
   "execution_count": 2,
   "id": "a5c61213-5a1e-41de-975b-5473cd39a448",
   "metadata": {},
   "outputs": [],
   "source": [
    "import pandas as pd\n",
    "import numpy as np\n",
    "import seaborn as sns\n",
    "import matplotlib.pyplot as plt\n",
    "from sklearn.cluster import KMeans\n",
    "from sklearn.preprocessing import StandardScaler"
   ]
  },
  {
   "cell_type": "code",
   "execution_count": 3,
   "id": "9ed05f68-c8eb-4c6d-9f4d-14bf91de0a38",
   "metadata": {},
   "outputs": [
    {
     "data": {
      "text/html": [
       "<div>\n",
       "<style scoped>\n",
       "    .dataframe tbody tr th:only-of-type {\n",
       "        vertical-align: middle;\n",
       "    }\n",
       "\n",
       "    .dataframe tbody tr th {\n",
       "        vertical-align: top;\n",
       "    }\n",
       "\n",
       "    .dataframe thead th {\n",
       "        text-align: right;\n",
       "    }\n",
       "</style>\n",
       "<table border=\"1\" class=\"dataframe\">\n",
       "  <thead>\n",
       "    <tr style=\"text-align: right;\">\n",
       "      <th></th>\n",
       "      <th>melodic/bittersweet/sentimental/romantic</th>\n",
       "      <th>spiritual/atmospheric/surreal/dense/mysterious</th>\n",
       "      <th>progressive/dense/epic</th>\n",
       "      <th>energetic/raw/rebellious/noisy/angry-warm/calm/natural/acoustic/pastoral</th>\n",
       "      <th>cold/dark/sad/atmospheric/anxious/mysterious/serious-quirky/happy</th>\n",
       "    </tr>\n",
       "  </thead>\n",
       "  <tbody>\n",
       "    <tr>\n",
       "      <th>0</th>\n",
       "      <td>0.428571</td>\n",
       "      <td>0.000000</td>\n",
       "      <td>0.000000</td>\n",
       "      <td>-0.538462</td>\n",
       "      <td>-0.481481</td>\n",
       "    </tr>\n",
       "    <tr>\n",
       "      <th>1</th>\n",
       "      <td>0.714286</td>\n",
       "      <td>0.703704</td>\n",
       "      <td>0.428571</td>\n",
       "      <td>0.733333</td>\n",
       "      <td>-0.444444</td>\n",
       "    </tr>\n",
       "    <tr>\n",
       "      <th>2</th>\n",
       "      <td>0.619048</td>\n",
       "      <td>0.000000</td>\n",
       "      <td>0.000000</td>\n",
       "      <td>-0.087179</td>\n",
       "      <td>0.037037</td>\n",
       "    </tr>\n",
       "    <tr>\n",
       "      <th>3</th>\n",
       "      <td>0.904762</td>\n",
       "      <td>0.407407</td>\n",
       "      <td>0.428571</td>\n",
       "      <td>0.400000</td>\n",
       "      <td>0.111111</td>\n",
       "    </tr>\n",
       "    <tr>\n",
       "      <th>4</th>\n",
       "      <td>0.523810</td>\n",
       "      <td>0.481481</td>\n",
       "      <td>0.523810</td>\n",
       "      <td>0.000000</td>\n",
       "      <td>-0.555556</td>\n",
       "    </tr>\n",
       "    <tr>\n",
       "      <th>...</th>\n",
       "      <td>...</td>\n",
       "      <td>...</td>\n",
       "      <td>...</td>\n",
       "      <td>...</td>\n",
       "      <td>...</td>\n",
       "    </tr>\n",
       "    <tr>\n",
       "      <th>420</th>\n",
       "      <td>0.428571</td>\n",
       "      <td>0.925926</td>\n",
       "      <td>0.428571</td>\n",
       "      <td>0.733333</td>\n",
       "      <td>-0.555556</td>\n",
       "    </tr>\n",
       "    <tr>\n",
       "      <th>421</th>\n",
       "      <td>0.809524</td>\n",
       "      <td>0.555556</td>\n",
       "      <td>0.000000</td>\n",
       "      <td>-0.005128</td>\n",
       "      <td>-0.444444</td>\n",
       "    </tr>\n",
       "    <tr>\n",
       "      <th>422</th>\n",
       "      <td>0.619048</td>\n",
       "      <td>0.000000</td>\n",
       "      <td>0.000000</td>\n",
       "      <td>0.230769</td>\n",
       "      <td>0.074074</td>\n",
       "    </tr>\n",
       "    <tr>\n",
       "      <th>423</th>\n",
       "      <td>0.523810</td>\n",
       "      <td>0.629630</td>\n",
       "      <td>0.619048</td>\n",
       "      <td>-0.087179</td>\n",
       "      <td>-0.666667</td>\n",
       "    </tr>\n",
       "    <tr>\n",
       "      <th>424</th>\n",
       "      <td>0.714286</td>\n",
       "      <td>0.481481</td>\n",
       "      <td>0.619048</td>\n",
       "      <td>0.400000</td>\n",
       "      <td>-0.481481</td>\n",
       "    </tr>\n",
       "  </tbody>\n",
       "</table>\n",
       "<p>425 rows × 5 columns</p>\n",
       "</div>"
      ],
      "text/plain": [
       "     melodic/bittersweet/sentimental/romantic  \\\n",
       "0                                    0.428571   \n",
       "1                                    0.714286   \n",
       "2                                    0.619048   \n",
       "3                                    0.904762   \n",
       "4                                    0.523810   \n",
       "..                                        ...   \n",
       "420                                  0.428571   \n",
       "421                                  0.809524   \n",
       "422                                  0.619048   \n",
       "423                                  0.523810   \n",
       "424                                  0.714286   \n",
       "\n",
       "     spiritual/atmospheric/surreal/dense/mysterious  progressive/dense/epic  \\\n",
       "0                                          0.000000                0.000000   \n",
       "1                                          0.703704                0.428571   \n",
       "2                                          0.000000                0.000000   \n",
       "3                                          0.407407                0.428571   \n",
       "4                                          0.481481                0.523810   \n",
       "..                                              ...                     ...   \n",
       "420                                        0.925926                0.428571   \n",
       "421                                        0.555556                0.000000   \n",
       "422                                        0.000000                0.000000   \n",
       "423                                        0.629630                0.619048   \n",
       "424                                        0.481481                0.619048   \n",
       "\n",
       "     energetic/raw/rebellious/noisy/angry-warm/calm/natural/acoustic/pastoral  \\\n",
       "0                                            -0.538462                          \n",
       "1                                             0.733333                          \n",
       "2                                            -0.087179                          \n",
       "3                                             0.400000                          \n",
       "4                                             0.000000                          \n",
       "..                                                 ...                          \n",
       "420                                           0.733333                          \n",
       "421                                          -0.005128                          \n",
       "422                                           0.230769                          \n",
       "423                                          -0.087179                          \n",
       "424                                           0.400000                          \n",
       "\n",
       "     cold/dark/sad/atmospheric/anxious/mysterious/serious-quirky/happy  \n",
       "0                                            -0.481481                  \n",
       "1                                            -0.444444                  \n",
       "2                                             0.037037                  \n",
       "3                                             0.111111                  \n",
       "4                                            -0.555556                  \n",
       "..                                                 ...                  \n",
       "420                                          -0.555556                  \n",
       "421                                          -0.444444                  \n",
       "422                                           0.074074                  \n",
       "423                                          -0.666667                  \n",
       "424                                          -0.481481                  \n",
       "\n",
       "[425 rows x 5 columns]"
      ]
     },
     "execution_count": 3,
     "metadata": {},
     "output_type": "execute_result"
    }
   ],
   "source": [
    "df = pd.read_csv('../csv/trimmed_dataset.csv')\n",
    "df"
   ]
  },
  {
   "cell_type": "markdown",
   "id": "0e215427-df3d-4408-90b7-60c3fd7af02e",
   "metadata": {},
   "source": [
    "In this notebook we'll be comparing our clustering output using different subsets of our dataset:\n",
    "- only binary features;\n",
    "- only continuous features;\n",
    "- all features.\n",
    "\n",
    "The purpose of this is not to compare the features themselves, but rather to check what effects their type (binary x continuous) may have in the clustering quality. The subset with all features will also be used in order to check if a 15-dimensional space already incurs in \"curse of dimensionality\" (more about it in 02_Data_Modeling.ipynb) for these 449 entries.\n",
    "\n",
    "As was discussed in the past notebook, clustering is optimal in a dataset with only **n** binary features when it has 2^n clusters. For a dataset fully comprised of continuous features, it's simpler: the more clusters the better. Since we want to compare both subsets at their best, the number of features and clusters chosen for the binary-only subset will be the number we use for the continuous dataset too.\n",
    "\n",
    "For 5 features, the binary subset would perform optimally at 32 clusters, which is a little too much for the 449 entries we currently have. For 4 features, it performs optimally at 16 clusters, which seems to be a better number. So 4 features will be chosen for both the binary and continuous subset. The criterion for choosing features will be variance."
   ]
  },
  {
   "cell_type": "markdown",
   "id": "759a07e9-6460-47d6-aad8-0e870e6b27a9",
   "metadata": {},
   "source": [
    "Every subset will be separately normalized using StandardScaler before running k-Means Clustering."
   ]
  },
  {
   "cell_type": "code",
   "execution_count": 3,
   "id": "76bc22f4-735e-4785-a3f7-b7948fc654f5",
   "metadata": {},
   "outputs": [
    {
     "data": {
      "text/plain": [
       "rhythmic                                                                    0.558585\n",
       "poetic                                                                      0.517221\n",
       "energetic/raw/rebellious/noisy/angry-warm/calm/natural/acoustic/pastoral    0.516981\n",
       "eclectic                                                                    0.493060\n",
       "cold/dark/sad/atmospheric/anxious/mysterious/serious-quirky/happy           0.387733\n",
       "anthemic                                                                    0.323688\n",
       "heavy                                                                       0.253666\n",
       "urban                                                                       0.228126\n",
       "humorous                                                                    0.214560\n",
       "progressive/dense/epic                                                      0.176385\n",
       "spiritual/atmospheric/surreal/dense/mysterious                              0.160897\n",
       "melodic/bittersweet/sentimental/romantic                                    0.154224\n",
       "minimalistic                                                                0.138619\n",
       "futuristic                                                                  0.107120\n",
       "apathetic                                                                   0.075162\n",
       "dtype: float64"
      ]
     },
     "execution_count": 3,
     "metadata": {},
     "output_type": "execute_result"
    }
   ],
   "source": [
    "variances_df = df.var()\n",
    "variances_sorted = variances_df.sort_values(ascending=False)\n",
    "variances_sorted"
   ]
  },
  {
   "cell_type": "code",
   "execution_count": 4,
   "id": "80434a6f-344d-41f3-836c-d5f9caae3c16",
   "metadata": {},
   "outputs": [],
   "source": [
    "# Therefore our subsets will be:\n",
    "df_bin = df[['rhythmic', 'poetic', 'eclectic', 'anthemic']]\n",
    "df_cont = df[['energetic/raw/rebellious/noisy/angry-warm/calm/natural/acoustic/pastoral', 'cold/dark/sad/atmospheric/anxious/mysterious/serious-quirky/happy', 'progressive/dense/epic', 'spiritual/atmospheric/surreal/dense/mysterious']]\n",
    "df_all = df\n"
   ]
  },
  {
   "cell_type": "markdown",
   "id": "c18b5c81-0ecc-4ac0-8329-bf7f1ad8df04",
   "metadata": {},
   "source": [
    "### 1. df_bin"
   ]
  },
  {
   "cell_type": "code",
   "execution_count": 47,
   "id": "37d5b7c7-5bd3-4398-a851-5b49907d38de",
   "metadata": {},
   "outputs": [
    {
     "name": "stderr",
     "output_type": "stream",
     "text": [
      "C:\\Users\\Arthu\\AppData\\Local\\Temp\\ipykernel_8808\\3073294552.py:10: SettingWithCopyWarning:\n",
      "\n",
      "\n",
      "A value is trying to be set on a copy of a slice from a DataFrame.\n",
      "Try using .loc[row_indexer,col_indexer] = value instead\n",
      "\n",
      "See the caveats in the documentation: https://pandas.pydata.org/pandas-docs/stable/user_guide/indexing.html#returning-a-view-versus-a-copy\n",
      "\n"
     ]
    }
   ],
   "source": [
    "X = df_bin.to_numpy()\n",
    "scaler = StandardScaler()\n",
    "scaler.fit(X)\n",
    "X = scaler.transform(X)\n",
    "\n",
    "clusterNum = 16\n",
    "k_means = KMeans(init = \"k-means++\", n_clusters = clusterNum, n_init = 12)\n",
    "k_means.fit(X)\n",
    "labels = k_means.labels_\n",
    "df_bin['labels'] = k_means.labels_"
   ]
  },
  {
   "cell_type": "code",
   "execution_count": 48,
   "id": "3f7eedc8-77b9-4051-9f53-77245ba8da0a",
   "metadata": {},
   "outputs": [],
   "source": [
    "# Extracting album names from \"named_df\" (full_descriptor_dataset.csv) and labels from \"df\", then merging into one dataframe \"merged_df\"\n",
    "named_df = pd.read_csv('../csv/full_descriptor_dataset.csv')\n",
    "merged_df = pd.merge(df_bin['labels'], named_df[['name']], left_index=True, right_index=True)"
   ]
  },
  {
   "cell_type": "code",
   "execution_count": 49,
   "id": "4f436ef8-30d7-4b4b-b220-99a30d7f0e86",
   "metadata": {},
   "outputs": [
    {
     "data": {
      "text/html": [
       "<div>\n",
       "<style scoped>\n",
       "    .dataframe tbody tr th:only-of-type {\n",
       "        vertical-align: middle;\n",
       "    }\n",
       "\n",
       "    .dataframe tbody tr th {\n",
       "        vertical-align: top;\n",
       "    }\n",
       "\n",
       "    .dataframe thead th {\n",
       "        text-align: right;\n",
       "    }\n",
       "</style>\n",
       "<table border=\"1\" class=\"dataframe\">\n",
       "  <thead>\n",
       "    <tr style=\"text-align: right;\">\n",
       "      <th></th>\n",
       "      <th>labels</th>\n",
       "      <th>name</th>\n",
       "    </tr>\n",
       "  </thead>\n",
       "  <tbody>\n",
       "    <tr>\n",
       "      <th>0</th>\n",
       "      <td>3</td>\n",
       "      <td>Living in Darkness</td>\n",
       "    </tr>\n",
       "    <tr>\n",
       "      <th>1</th>\n",
       "      <td>6</td>\n",
       "      <td>Souvenirs d'un autre monde</td>\n",
       "    </tr>\n",
       "    <tr>\n",
       "      <th>2</th>\n",
       "      <td>1</td>\n",
       "      <td>People Who Can Eat People Are the Luckiest Peo...</td>\n",
       "    </tr>\n",
       "    <tr>\n",
       "      <th>3</th>\n",
       "      <td>4</td>\n",
       "      <td>Funeral</td>\n",
       "    </tr>\n",
       "    <tr>\n",
       "      <th>4</th>\n",
       "      <td>6</td>\n",
       "      <td>Neon Bible</td>\n",
       "    </tr>\n",
       "    <tr>\n",
       "      <th>...</th>\n",
       "      <td>...</td>\n",
       "      <td>...</td>\n",
       "    </tr>\n",
       "    <tr>\n",
       "      <th>444</th>\n",
       "      <td>6</td>\n",
       "      <td>In the Aeroplane Over the Sea</td>\n",
       "    </tr>\n",
       "    <tr>\n",
       "      <th>445</th>\n",
       "      <td>1</td>\n",
       "      <td>McCartney</td>\n",
       "    </tr>\n",
       "    <tr>\n",
       "      <th>446</th>\n",
       "      <td>5</td>\n",
       "      <td>Hail to the Thief</td>\n",
       "    </tr>\n",
       "    <tr>\n",
       "      <th>447</th>\n",
       "      <td>6</td>\n",
       "      <td>Wish You Were Here</td>\n",
       "    </tr>\n",
       "    <tr>\n",
       "      <th>448</th>\n",
       "      <td>7</td>\n",
       "      <td>Crossing the Red Sea With The Adverts</td>\n",
       "    </tr>\n",
       "  </tbody>\n",
       "</table>\n",
       "<p>449 rows × 2 columns</p>\n",
       "</div>"
      ],
      "text/plain": [
       "     labels                                               name\n",
       "0         3                                 Living in Darkness\n",
       "1         6                         Souvenirs d'un autre monde\n",
       "2         1  People Who Can Eat People Are the Luckiest Peo...\n",
       "3         4                                            Funeral\n",
       "4         6                                         Neon Bible\n",
       "..      ...                                                ...\n",
       "444       6                      In the Aeroplane Over the Sea\n",
       "445       1                                          McCartney\n",
       "446       5                                  Hail to the Thief\n",
       "447       6                                 Wish You Were Here\n",
       "448       7              Crossing the Red Sea With The Adverts\n",
       "\n",
       "[449 rows x 2 columns]"
      ]
     },
     "execution_count": 49,
     "metadata": {},
     "output_type": "execute_result"
    }
   ],
   "source": [
    "merged_df"
   ]
  },
  {
   "cell_type": "code",
   "execution_count": 50,
   "id": "99af89dc-5dfd-44ee-9a75-ad7e620f922d",
   "metadata": {},
   "outputs": [
    {
     "name": "stdout",
     "output_type": "stream",
     "text": [
      "labels\n",
      "0     [Humbug, Low, Construção, Cartola, Cartola, Sc...\n",
      "1     [People Who Can Eat People Are the Luckiest Pe...\n",
      "2     [Blink-182, Carlos, Erasmo..., Swing Lo Magell...\n",
      "3     [Living in Darkness, AM, The B-52's, Bad Brain...\n",
      "4     [Funeral, No Control, The Rise and Fall of Zig...\n",
      "5     [Mask, Paul's Boutique, Check Your Head, Ill C...\n",
      "6     [Souvenirs d'un autre monde, Neon Bible, Suck ...\n",
      "7     [Whatever People Say I Am, That's What I'm Not...\n",
      "8     [Rubber Soul, The Beatles [White Album], Abbey...\n",
      "9     [The Suburbs, Surf's Up, Mutations, The Kick I...\n",
      "10    [Reflektor, Licensed to Ill, London Calling, S...\n",
      "11    [Damaged, Take Off Your Pants and Jacket, Diam...\n",
      "12    [On Land and in the Sea, nimrod., Kylmälle maa...\n",
      "13    [Energy, A dança da solidão, Da lama ao caos, ...\n",
      "14    [Rumours, The Age of Adz, A Fever You Can't Sw...\n",
      "15                [Cabeça dinossauro, The Black Parade]\n",
      "Name: name, dtype: object\n"
     ]
    }
   ],
   "source": [
    "label_name_list = merged_df.groupby('labels')['name'].apply(list)\n",
    "print(label_name_list)"
   ]
  },
  {
   "cell_type": "code",
   "execution_count": 51,
   "id": "d928b32e-f16d-49d4-9287-69932eb88afe",
   "metadata": {},
   "outputs": [],
   "source": [
    "# Saving in .txt file\n",
    "with open('../Outputs/df_bin_output.txt', 'w', encoding='utf-8') as file:\n",
    "    for label, names in label_name_list.items():\n",
    "        file.write(f\"{label}: {', '.join(names)}\\n\")\n",
    "        file.write(f\"\\n\")"
   ]
  },
  {
   "cell_type": "markdown",
   "id": "9ac79984-b46b-4374-b034-e898e8226979",
   "metadata": {},
   "source": [
    "Let's repeat the same process with df_cont and df_all"
   ]
  },
  {
   "cell_type": "markdown",
   "id": "aa44dd04-8e88-4b92-ae1d-97b8d63c73c6",
   "metadata": {},
   "source": [
    "### 2. df_cont"
   ]
  },
  {
   "cell_type": "code",
   "execution_count": 52,
   "id": "ba60eb3b-a0e0-422c-be96-c8dc460fb438",
   "metadata": {},
   "outputs": [
    {
     "name": "stderr",
     "output_type": "stream",
     "text": [
      "C:\\Users\\Arthu\\AppData\\Local\\Temp\\ipykernel_8808\\1229445662.py:8: SettingWithCopyWarning:\n",
      "\n",
      "\n",
      "A value is trying to be set on a copy of a slice from a DataFrame.\n",
      "Try using .loc[row_indexer,col_indexer] = value instead\n",
      "\n",
      "See the caveats in the documentation: https://pandas.pydata.org/pandas-docs/stable/user_guide/indexing.html#returning-a-view-versus-a-copy\n",
      "\n"
     ]
    }
   ],
   "source": [
    "X = df_cont.to_numpy()\n",
    "scaler = StandardScaler()\n",
    "scaler.fit(X)\n",
    "X = scaler.transform(X)\n",
    "\n",
    "k_means.fit(X)\n",
    "labels = k_means.labels_\n",
    "df_cont['labels'] = k_means.labels_"
   ]
  },
  {
   "cell_type": "code",
   "execution_count": 53,
   "id": "9a82cf3a-8732-4204-9d66-3599dc07fcfa",
   "metadata": {},
   "outputs": [],
   "source": [
    "merged_df = pd.merge(df_cont['labels'], named_df[['name']], left_index=True, right_index=True)"
   ]
  },
  {
   "cell_type": "code",
   "execution_count": 54,
   "id": "fa362543-da96-4de8-9932-2e528ae11755",
   "metadata": {},
   "outputs": [],
   "source": [
    "label_name_list = merged_df.groupby('labels')['name'].apply(list)"
   ]
  },
  {
   "cell_type": "code",
   "execution_count": 55,
   "id": "866ee907-dfab-47af-8756-2ffaaf15d85f",
   "metadata": {},
   "outputs": [],
   "source": [
    "with open('../Outputs/df_cont_output.txt', 'w', encoding='utf-8') as file:\n",
    "    for label, names in label_name_list.items():\n",
    "        file.write(f\"{label}: {', '.join(names)}\\n\")\n",
    "        file.write(f\"\\n\")"
   ]
  },
  {
   "cell_type": "markdown",
   "id": "3d1494bf-ca12-4dac-b219-acaeba2eb6ee",
   "metadata": {},
   "source": [
    "### 3. df_all"
   ]
  },
  {
   "cell_type": "code",
   "execution_count": 56,
   "id": "465e043e-29d4-492c-a89b-b98788e140b6",
   "metadata": {},
   "outputs": [],
   "source": [
    "X = df_all.to_numpy()\n",
    "scaler = StandardScaler()\n",
    "scaler.fit(X)\n",
    "X = scaler.transform(X)\n",
    "\n",
    "k_means.fit(X)\n",
    "labels = k_means.labels_\n",
    "df_all['labels'] = k_means.labels_"
   ]
  },
  {
   "cell_type": "code",
   "execution_count": 57,
   "id": "592ed1d4-ab73-4867-ad6d-497e741ede1b",
   "metadata": {},
   "outputs": [],
   "source": [
    "merged_df = pd.merge(df_all['labels'], named_df[['name']], left_index=True, right_index=True)"
   ]
  },
  {
   "cell_type": "code",
   "execution_count": 58,
   "id": "b4009b8b-a48d-4d61-a574-451aad5cf9c9",
   "metadata": {},
   "outputs": [],
   "source": [
    "label_name_list = merged_df.groupby('labels')['name'].apply(list)"
   ]
  },
  {
   "cell_type": "code",
   "execution_count": 59,
   "id": "c166af14-4836-41b4-bf30-c0123a20453d",
   "metadata": {},
   "outputs": [],
   "source": [
    "with open('../Outputs/df_all_output.txt', 'w', encoding='utf-8') as file:\n",
    "    for label, names in label_name_list.items():\n",
    "        file.write(f\"{label}: {', '.join(names)}\\n\")\n",
    "        file.write(f\"\\n\")"
   ]
  },
  {
   "cell_type": "markdown",
   "id": "76af0f63-2b4c-4fcb-ab2a-8c4685382174",
   "metadata": {},
   "source": [
    "## Thoughts about the outputs"
   ]
  },
  {
   "cell_type": "markdown",
   "id": "e55185cf-11a4-42fb-bb68-3a7f639f8b78",
   "metadata": {},
   "source": [
    "Outputs can be checked in the \"Outputs\" folder. **Note**: Since the present albums were all chosen from my listening list, this evaluation will inevitably come from a personal perspective. Which isn't inappropriate, after all, clustering algorithms belong to the \"unsupervised learning\" paradigm.\n",
    "\n",
    "**df_bin_output.txt**: Here we can observe a phenomenon which already showed itself in lower dimensions when we plotted a 2D histogram for ('rhythmic' x 'poetic'): some focal points have much, much more data density than others, to the point that 4 of our 16 clusters have 6 or less labeled albums under them, a very small number. That doesn't mean these binary features can't contribute in our model, however the nature of data dispersion along binary features hint that they can't be used alone;\n",
    "\n",
    "**df_cont_output.txt**: Better than df_bin_output, but still not good enough. Some labels have good sound cohesion, but most are pretty mixed and some don't have any sound cohesion at all;\n",
    "\n",
    "**df_all_output.txt**: Worse than df_cont_output. Not a single label has reasonable cohesion, from which I could speculate 2 possible causes:\n",
    "1) 15 features might indeed be too many dimensions for the number of samples we currently have (449), so in order to use all 15 features, we should have many more samples than what we currently have, in order to fill all the \"blank\" space in our vector space created by this high number of dimensions;\n",
    "2) The data behavior we observed in binay features' distributions isn't exclusive to subsets that are \"binary features only\". Instead, the skewed distribution among focal points is being projected by binary features onto the full data distribution. **Note:** At first, I admit I thought this wouldn't happen, but now it's naive to think it wouldn't, since 10 of the 15 features are binary."
   ]
  }
 ],
 "metadata": {
  "kernelspec": {
   "display_name": "Python (venv)",
   "language": "python",
   "name": "venv"
  },
  "language_info": {
   "codemirror_mode": {
    "name": "ipython",
    "version": 3
   },
   "file_extension": ".py",
   "mimetype": "text/x-python",
   "name": "python",
   "nbconvert_exporter": "python",
   "pygments_lexer": "ipython3",
   "version": "3.9.13"
  }
 },
 "nbformat": 4,
 "nbformat_minor": 5
}
