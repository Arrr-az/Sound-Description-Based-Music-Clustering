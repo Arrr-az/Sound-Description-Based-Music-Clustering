{
 "cells": [
  {
   "cell_type": "markdown",
   "id": "50548117-e80c-4399-9d8f-70dac1ab284b",
   "metadata": {},
   "source": [
    "This Python module goes through all pages in \"./HTML_pages\" and recovers all possible descriptors. This was a necessary step to get a grasp of how many occurences there are of each descriptor, an important data for the next step, which is selecting which descriptors are going to be features of the dataset we'll be building for this problem, and how to model the selected descriptors themselves."
   ]
  },
  {
   "cell_type": "markdown",
   "id": "714a3c48-95dc-44a5-a3d0-a4472c050cd8",
   "metadata": {},
   "source": [
    "The final output of this module was stored in \"sorted_descriptor_list.txt\""
   ]
  },
  {
   "cell_type": "code",
   "execution_count": 1,
   "id": "63b839c3-bf9a-4211-ba60-07444714dbc8",
   "metadata": {},
   "outputs": [],
   "source": [
    "from bs4 import BeautifulSoup\n",
    "\n",
    "# Returns a list containing all unique descriptors found\n",
    "def getDescriptors(path):\n",
    "    \n",
    "    with open(path, \"r\", encoding=\"utf-8\") as f:\n",
    "        html = f.read()\n",
    "\n",
    "    soup = BeautifulSoup(html, 'html.parser')\n",
    "    \n",
    "    descriptors = soup.find(\"span\", class_=\"release_pri_descriptors\")\n",
    "    \n",
    "    if descriptors.string is None:\n",
    "        return None\n",
    "    else:\n",
    "        descriptorsList = descriptors.string.split(\",  \")\n",
    "        return descriptorsList"
   ]
  },
  {
   "cell_type": "code",
   "execution_count": 2,
   "id": "f964d3d6-b769-4c74-9fc4-7e051fc5a732",
   "metadata": {},
   "outputs": [],
   "source": [
    "# Receives a list of descriptors and adds them to a dictionary.\n",
    "# The dictionary keeps track of the number of occurrences of each descriptor.\n",
    "def addDescriptor(dict, descriptorsList):\n",
    "    \n",
    "    if descriptorsList is None:\n",
    "        return None\n",
    "    else:\n",
    "        for descriptor in descriptorsList:\n",
    "\n",
    "            count = dict.get(descriptor, 0)\n",
    "            count += 1\n",
    "            dict[descriptor] = count"
   ]
  },
  {
   "cell_type": "code",
   "execution_count": 3,
   "id": "e7ed1a54-e0e0-4355-bcc0-bbb62bd62d5b",
   "metadata": {},
   "outputs": [],
   "source": [
    "# Wraps \"descriptorsList\" and \"addDescriptor\" in a loop, returning a dictionary of descriptors found in all HTML album pages\n",
    "def createDescriptorDict(max_albums):\n",
    "    \n",
    "    dict = {}\n",
    "    \n",
    "    for file_name in range(1, max_albums + 1):\n",
    "        if file_name % 100 == 0:\n",
    "            print(str(file_name) + \"/\" + str(max_albums))\n",
    "\n",
    "        descriptorsList = getDescriptors(\"./HTML_pages/\" + str(file_name) + \".htm\")\n",
    "        addDescriptor(dict, descriptorsList)\n",
    "    \n",
    "    return dict"
   ]
  },
  {
   "cell_type": "code",
   "execution_count": 4,
   "id": "5c06df84-6c2c-4a53-aee9-70bedee794bd",
   "metadata": {},
   "outputs": [],
   "source": [
    "# Creates a new list from the dictionary, sorted by the most popular descriptor to the least popular\n",
    "def sortedDescriptorsList(max_albums):\n",
    "    \n",
    "    dict = createDescriptorDict(max_albums)\n",
    "    sorted_descriptors = sorted(dict.items(), key=lambda x: x[1], reverse=True)\n",
    "    \n",
    "    return sorted_descriptors"
   ]
  },
  {
   "cell_type": "code",
   "execution_count": 5,
   "id": "821f9a18-6696-4ea0-87b2-ab8b0810e2ae",
   "metadata": {},
   "outputs": [
    {
     "name": "stdout",
     "output_type": "stream",
     "text": [
      "100/706\n",
      "200/706\n",
      "300/706\n",
      "400/706\n",
      "500/706\n",
      "600/706\n",
      "700/706\n"
     ]
    }
   ],
   "source": [
    "sorted_descriptors = sortedDescriptorsList(706)"
   ]
  },
  {
   "cell_type": "code",
   "execution_count": 6,
   "id": "72905516-7024-4869-9517-c9e2ce28f832",
   "metadata": {},
   "outputs": [
    {
     "data": {
      "text/plain": [
       "[('male vocalist', 633),\n",
       " ('melodic', 430),\n",
       " ('energetic', 377),\n",
       " ('rhythmic', 320),\n",
       " ('passionate', 280),\n",
       " ('playful', 274),\n",
       " ('raw', 233),\n",
       " ('anxious', 230),\n",
       " ('bittersweet', 217),\n",
       " ('warm', 206),\n",
       " ('rebellious', 200),\n",
       " ('psychedelic', 198),\n",
       " ('melancholic', 191),\n",
       " ('poetic', 186),\n",
       " ('introspective', 184),\n",
       " ('quirky', 179),\n",
       " ('eclectic', 176),\n",
       " ('love', 170),\n",
       " ('atmospheric', 163),\n",
       " ('sarcastic', 159),\n",
       " ('conscious', 147),\n",
       " ('lush', 146),\n",
       " ('surreal', 146),\n",
       " ('urban', 145),\n",
       " ('nocturnal', 144),\n",
       " ('dark', 136),\n",
       " ('progressive', 135),\n",
       " ('longing', 133),\n",
       " ('political', 130),\n",
       " ('mellow', 126),\n",
       " ('alienation', 121),\n",
       " ('female vocalist', 119),\n",
       " ('humorous', 116),\n",
       " ('noisy', 116),\n",
       " ('existential', 115),\n",
       " ('lonely', 113),\n",
       " ('dense', 110),\n",
       " ('summer', 110),\n",
       " ('uplifting', 107),\n",
       " ('manic', 107),\n",
       " ('sentimental', 104),\n",
       " ('anthemic', 102),\n",
       " ('abstract', 100),\n",
       " ('romantic', 99),\n",
       " ('hypnotic', 99),\n",
       " ('cryptic', 95),\n",
       " ('angry', 93),\n",
       " ('repetitive', 89),\n",
       " ('sombre', 87),\n",
       " ('aggressive', 86),\n",
       " ('pessimistic', 85),\n",
       " ('concept album', 83),\n",
       " ('avant-garde', 83),\n",
       " ('philosophical', 82),\n",
       " ('sexual', 82),\n",
       " ('mysterious', 74),\n",
       " ('complex', 71),\n",
       " ('death', 69),\n",
       " ('satirical', 68),\n",
       " ('heavy', 67),\n",
       " ('lo-fi', 64),\n",
       " ('cold', 63),\n",
       " ('misanthropic', 62),\n",
       " ('ominous', 62),\n",
       " ('soothing', 61),\n",
       " ('ethereal', 60),\n",
       " ('drugs', 59),\n",
       " ('depressive', 58),\n",
       " ('epic', 55),\n",
       " ('hedonistic', 53),\n",
       " ('tropical', 53),\n",
       " ('soft', 52),\n",
       " ('technical', 51),\n",
       " ('uncommon time signatures', 51),\n",
       " ('dissonant', 51),\n",
       " ('pastoral', 50),\n",
       " ('chaotic', 50),\n",
       " ('breakup', 49),\n",
       " ('nihilistic', 48),\n",
       " ('autumn', 48),\n",
       " ('acoustic', 47),\n",
       " ('apocalyptic', 45),\n",
       " ('sad', 44),\n",
       " ('serious', 44),\n",
       " ('calm', 43),\n",
       " ('spiritual', 42),\n",
       " ('protest', 40),\n",
       " ('happy', 38),\n",
       " ('violence', 36),\n",
       " ('peaceful', 34),\n",
       " ('minimalistic', 32),\n",
       " ('vulgar', 31),\n",
       " ('party', 31),\n",
       " ('futuristic', 31),\n",
       " ('mechanical', 31),\n",
       " ('self-hatred', 27),\n",
       " ('optimistic', 27),\n",
       " ('suspenseful', 27),\n",
       " ('alcohol', 26),\n",
       " ('science fiction', 25),\n",
       " ('LGBT', 25),\n",
       " ('fantasy', 24),\n",
       " ('sensual', 24),\n",
       " ('sampling', 24),\n",
       " ('space', 23),\n",
       " ('apathetic', 22),\n",
       " ('nature', 22),\n",
       " ('disturbing', 21),\n",
       " ('triumphant', 21),\n",
       " ('war', 21),\n",
       " ('religious', 21),\n",
       " ('deadpan', 20),\n",
       " ('spring', 19),\n",
       " ('winter', 19),\n",
       " ('improvisation', 19),\n",
       " ('anti-religious', 18),\n",
       " ('lethargic', 18),\n",
       " ('suite', 18),\n",
       " ('anarchism', 18),\n",
       " ('crime', 17),\n",
       " ('instrumental', 17),\n",
       " ('boastful', 16),\n",
       " ('Christian', 16),\n",
       " ('orchestral', 15),\n",
       " ('tribal', 14),\n",
       " ('history', 14),\n",
       " ('aquatic', 14),\n",
       " ('sparse', 14),\n",
       " ('desert', 13),\n",
       " ('polyphonic', 13),\n",
       " ('funereal', 13),\n",
       " ('suicide', 13),\n",
       " ('Wall of Sound', 12),\n",
       " ('folklore', 11),\n",
       " ('rock opera', 10),\n",
       " ('meditative', 10),\n",
       " ('ritualistic', 9),\n",
       " ('occult', 9),\n",
       " ('atonal', 9),\n",
       " ('rain', 9),\n",
       " ('forest', 8),\n",
       " ('scary', 8),\n",
       " ('martial', 8),\n",
       " ('mythology', 7),\n",
       " ('vocal group', 6),\n",
       " ('hateful', 6),\n",
       " ('infernal', 6),\n",
       " ('androgynous vocals', 6),\n",
       " ('medieval', 6),\n",
       " ('medley', 5),\n",
       " ('seasonal', 5),\n",
       " ('paranormal', 5),\n",
       " ('ballad', 4),\n",
       " ('Halloween', 4),\n",
       " ('parody', 4),\n",
       " ('microtonal', 4),\n",
       " ('pagan', 3),\n",
       " ('patriotic', 2),\n",
       " ('chamber music', 2),\n",
       " ('monologue', 2),\n",
       " ('non-binary vocalist', 1),\n",
       " ('ensemble', 1),\n",
       " ('natural', 1),\n",
       " ('sports', 1),\n",
       " ('nationalism', 1),\n",
       " ('skit', 1),\n",
       " ('jingle', 1)]"
      ]
     },
     "execution_count": 6,
     "metadata": {},
     "output_type": "execute_result"
    }
   ],
   "source": [
    "sorted_descriptors"
   ]
  },
  {
   "cell_type": "code",
   "execution_count": 7,
   "id": "a1af90dc-d6f8-40ad-86c7-f138d0a800cc",
   "metadata": {},
   "outputs": [
    {
     "data": {
      "text/plain": [
       "167"
      ]
     },
     "execution_count": 7,
     "metadata": {},
     "output_type": "execute_result"
    }
   ],
   "source": [
    "len(sorted_descriptors)"
   ]
  }
 ],
 "metadata": {
  "kernelspec": {
   "display_name": "Python (venv)",
   "language": "python",
   "name": "venv"
  },
  "language_info": {
   "codemirror_mode": {
    "name": "ipython",
    "version": 3
   },
   "file_extension": ".py",
   "mimetype": "text/x-python",
   "name": "python",
   "nbconvert_exporter": "python",
   "pygments_lexer": "ipython3",
   "version": "3.9.13"
  }
 },
 "nbformat": 4,
 "nbformat_minor": 5
}
